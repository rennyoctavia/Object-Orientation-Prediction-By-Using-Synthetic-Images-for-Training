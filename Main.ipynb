{
 "cells": [
  {
   "cell_type": "markdown",
   "metadata": {},
   "source": [
    "# Main Function to be called for object detection and object orientation prediction"
   ]
  },
  {
   "cell_type": "code",
   "execution_count": null,
   "metadata": {},
   "outputs": [],
   "source": [
    "from orientation_detection.NN_module import get_prediction,load_CNN_model\n",
    "from orientation_detection.render_images import get_images\n",
    "from object_detection.object_detection import use_webcam,use_image,get_cropped_image\n",
    "from keras.applications.vgg16 import preprocess_input\n",
    "import numpy as np\n",
    "from render_module import main\n",
    "from render_module.main import RenderModule\n",
    "import matplotlib.pyplot as plt\n",
    "import cv2\n",
    "import pickle\n",
    "import datetime"
   ]
  },
  {
   "cell_type": "code",
   "execution_count": null,
   "metadata": {},
   "outputs": [],
   "source": [
    "def get_mesh(image_generator):\n",
    "    return image_generator.createMesh('models/09_real_chair/model.obj', 'models/09_real_chair/texture.jpg')"
   ]
  },
  {
   "cell_type": "markdown",
   "metadata": {},
   "source": [
    "### Callback Function to be sent to use_webcam function from object_detection module\n",
    "- This function will get stream of cropped images from the object_detection module and run prediction using saved model and visualize the prediction \n",
    "- The webcam will keep detecting object(chair), until we hit the break or escape"
   ]
  },
  {
   "cell_type": "code",
   "execution_count": null,
   "metadata": {},
   "outputs": [],
   "source": [
    "def run_predict_orientation(img, cropped, coords,dims,image_generator,mesh,model):\n",
    "    \n",
    "    print('num images',len(cropped))\n",
    "    cv2.imshow('captured',img)\n",
    "    \n",
    "    if len(cropped) == 0:\n",
    "        return\n",
    "    \n",
    "    #Run Prediction\n",
    "    predictions = model.predict(preprocess_input(np.array(cropped).copy()))\n",
    "    \n",
    "    meshes = [mesh for i in range(len(cropped))]\n",
    "    heights = [1 for i in range(len(cropped))]\n",
    "    \n",
    "    matrix = image_generator.visualize(90/180*np.pi,img, coords, dims, meshes, heights,predictions.reshape(len(predictions),2,3),True)\n",
    "    cv2.imshow('Cropped',cropped[0].astype(np.uint8))\n",
    "    cv2.imshow('prediction',matrix.astype(np.uint8))"
   ]
  },
  {
   "cell_type": "code",
   "execution_count": null,
   "metadata": {},
   "outputs": [],
   "source": [
    "class Main:\n",
    "    def __init__(self):\n",
    "        self.image_generator=RenderModule(False,800,600)\n",
    "        self.model = load_CNN_model('vectorOrientations','../trained_model/new_chair/vgg16/pretrained/2019-04-16 14:22/vgg16_model_2019-04-16 14:22')\n",
    "        self.mesh = self.image_generator.createMesh('models/09_real_chair/model.obj', 'models/09_real_chair/texture.jpg')\n",
    "    def callback(self,img, cropped, coords,dims):\n",
    "        run_predict_orientation(img, cropped, coords,dims, self.image_generator, self.mesh, self.model)\n",
    "\n",
    "main = Main()\n",
    "\n",
    "#/trained_model/new_chair/comparison 19 April/VGG16/2019-04-19 04:06/vgg16_model_2019-04-19 04:06\n",
    "#/trained_model/new_chair/vgg16/pretrained/2019-04-16 14:22/vgg16_model_2019-04-16 14:22\n",
    "\n",
    "use_webcam(main.callback)"
   ]
  }
 ],
 "metadata": {
  "kernelspec": {
   "display_name": "Python 3",
   "language": "python",
   "name": "python3"
  },
  "language_info": {
   "codemirror_mode": {
    "name": "ipython",
    "version": 3
   },
   "file_extension": ".py",
   "mimetype": "text/x-python",
   "name": "python",
   "nbconvert_exporter": "python",
   "pygments_lexer": "ipython3",
   "version": "3.6.8"
  }
 },
 "nbformat": 4,
 "nbformat_minor": 2
}
